{
  "nbformat": 4,
  "nbformat_minor": 0,
  "metadata": {
    "colab": {
      "provenance": [],
      "authorship_tag": "ABX9TyOzlSoxeXEUFl28cgY9DQGa",
      "include_colab_link": true
    },
    "kernelspec": {
      "name": "python3",
      "display_name": "Python 3"
    },
    "language_info": {
      "name": "python"
    }
  },
  "cells": [
    {
      "cell_type": "markdown",
      "metadata": {
        "id": "view-in-github",
        "colab_type": "text"
      },
      "source": [
        "<a href=\"https://colab.research.google.com/github/Priyam023002/ROKO1845/blob/main/First.ipynb\" target=\"_parent\"><img src=\"https://colab.research.google.com/assets/colab-badge.svg\" alt=\"Open In Colab\"/></a>"
      ]
    },
    {
      "cell_type": "code",
      "source": [
        "''' Generate a numpy array of dimension 1024 x 728 '''\n",
        "import numpy as np\n",
        "\n",
        "a_array = np.array([i for i in range(1024)] for j in range(728))\n",
        "\n",
        "a_array = np.arange(1024*728)\n",
        "a_array1 = a_array.reshape(1024,728)\n",
        "print(a_array.shape)\n",
        "print(a_array1.shape)\n",
        "print(a_array1.size)\n",
        "a_array1.reshape(a_array1.size).shape"
      ],
      "metadata": {
        "colab": {
          "base_uri": "https://localhost:8080/"
        },
        "id": "M7pObbJgJvDK",
        "outputId": "e41de398-a315-4a2f-9440-da44e0f96a70"
      },
      "execution_count": null,
      "outputs": [
        {
          "output_type": "stream",
          "name": "stdout",
          "text": [
            "(745472,)\n",
            "(1024, 728)\n",
            "745472\n"
          ]
        },
        {
          "output_type": "execute_result",
          "data": {
            "text/plain": [
              "(745472,)"
            ]
          },
          "metadata": {},
          "execution_count": 18
        }
      ]
    },
    {
      "cell_type": "code",
      "source": [
        "import pandas as pd"
      ],
      "metadata": {
        "id": "PBuBIkSRDm2z"
      },
      "execution_count": null,
      "outputs": []
    },
    {
      "cell_type": "code",
      "source": [
        "df=pd.read_csv('Digital_marketing.csv')"
      ],
      "metadata": {
        "id": "weZ5-s4YDr4L"
      },
      "execution_count": null,
      "outputs": []
    },
    {
      "cell_type": "code",
      "source": [
        "zeros = np.zeros((4,3))\n",
        "print(zeros)\n",
        "\n",
        "ones = np.ones((4,3))\n",
        "print(ones)"
      ],
      "metadata": {
        "colab": {
          "base_uri": "https://localhost:8080/"
        },
        "id": "1m-DfUynPDWC",
        "outputId": "310c2b28-5dea-43e1-ef62-505704597b99"
      },
      "execution_count": null,
      "outputs": [
        {
          "output_type": "stream",
          "name": "stdout",
          "text": [
            "[[0. 0. 0.]\n",
            " [0. 0. 0.]\n",
            " [0. 0. 0.]\n",
            " [0. 0. 0.]]\n",
            "[[1. 1. 1.]\n",
            " [1. 1. 1.]\n",
            " [1. 1. 1.]\n",
            " [1. 1. 1.]]\n"
          ]
        }
      ]
    },
    {
      "cell_type": "code",
      "source": [
        "a_list = [[[1,2,3], [3,4,5]], [[2,4,5], [6,7,8]]]\n",
        "\n",
        "print(len(a_list))\n",
        "print(len(a_list[0]))\n",
        "print(len(a_list[0][0]))\n",
        "\n",
        "a_array = np.array(a_list)\n",
        "print(a_array.shape)"
      ],
      "metadata": {
        "colab": {
          "base_uri": "https://localhost:8080/"
        },
        "id": "jCrUmjugGzAE",
        "outputId": "8978cd2f-2755-41e1-b4e9-296e3f4075e9"
      },
      "execution_count": null,
      "outputs": [
        {
          "output_type": "stream",
          "name": "stdout",
          "text": [
            "2\n",
            "2\n",
            "3\n",
            "(2, 2, 3)\n"
          ]
        }
      ]
    },
    {
      "cell_type": "code",
      "source": [
        "a = np.array([[1,2],\n",
        "              [3,4],\n",
        "              [5,6],\n",
        "              [7,8]])\n",
        "\n",
        "a"
      ],
      "metadata": {
        "colab": {
          "base_uri": "https://localhost:8080/"
        },
        "id": "mqnfpSR9GX7k",
        "outputId": "056506f8-15b5-4ce2-ba1e-d1598ff97e59"
      },
      "execution_count": null,
      "outputs": [
        {
          "output_type": "execute_result",
          "data": {
            "text/plain": [
              "array([[1, 2],\n",
              "       [3, 4],\n",
              "       [5, 6],\n",
              "       [7, 8]])"
            ]
          },
          "metadata": {},
          "execution_count": 6
        }
      ]
    },
    {
      "cell_type": "code",
      "source": [
        "list1=[1,2,3,4,5]\n",
        "a = np.array(list1)\n",
        "\n",
        "print('list1', list1)\n",
        "print('numpy array', a)"
      ],
      "metadata": {
        "colab": {
          "base_uri": "https://localhost:8080/"
        },
        "id": "ud6XsK8DC65V",
        "outputId": "192f0d4e-c866-4334-e138-be2e2a9736f9"
      },
      "execution_count": null,
      "outputs": [
        {
          "output_type": "stream",
          "name": "stdout",
          "text": [
            "list1 [1, 2, 3, 4, 5]\n",
            "numpy array [1 2 3 4 5]\n"
          ]
        }
      ]
    },
    {
      "cell_type": "code",
      "source": [
        "data=np.array(2)\n",
        "print(type(data))\n",
        "lists = [1, 2, 3]\n",
        "type(lists)"
      ],
      "metadata": {
        "colab": {
          "base_uri": "https://localhost:8080/"
        },
        "id": "oDwG5JcT-14y",
        "outputId": "0819d51c-275d-4298-ac69-6c312f4c7839"
      },
      "execution_count": null,
      "outputs": [
        {
          "output_type": "stream",
          "name": "stdout",
          "text": [
            "<class 'numpy.ndarray'>\n"
          ]
        },
        {
          "output_type": "execute_result",
          "data": {
            "text/plain": [
              "list"
            ]
          },
          "metadata": {},
          "execution_count": 4
        }
      ]
    },
    {
      "cell_type": "code",
      "source": [
        "import numpy as np\n",
        "print(np.__doc__)"
      ],
      "metadata": {
        "colab": {
          "base_uri": "https://localhost:8080/"
        },
        "id": "q3tyxHqJ6O15",
        "outputId": "7ff03496-f2dd-4802-a11e-dacfb4c9fd2f"
      },
      "execution_count": null,
      "outputs": [
        {
          "output_type": "stream",
          "name": "stdout",
          "text": [
            "\n",
            "NumPy\n",
            "=====\n",
            "\n",
            "Provides\n",
            "  1. An array object of arbitrary homogeneous items\n",
            "  2. Fast mathematical operations over arrays\n",
            "  3. Linear Algebra, Fourier Transforms, Random Number Generation\n",
            "\n",
            "How to use the documentation\n",
            "----------------------------\n",
            "Documentation is available in two forms: docstrings provided\n",
            "with the code, and a loose standing reference guide, available from\n",
            "`the NumPy homepage <https://numpy.org>`_.\n",
            "\n",
            "We recommend exploring the docstrings using\n",
            "`IPython <https://ipython.org>`_, an advanced Python shell with\n",
            "TAB-completion and introspection capabilities.  See below for further\n",
            "instructions.\n",
            "\n",
            "The docstring examples assume that `numpy` has been imported as ``np``::\n",
            "\n",
            "  >>> import numpy as np\n",
            "\n",
            "Code snippets are indicated by three greater-than signs::\n",
            "\n",
            "  >>> x = 42\n",
            "  >>> x = x + 1\n",
            "\n",
            "Use the built-in ``help`` function to view a function's docstring::\n",
            "\n",
            "  >>> help(np.sort)\n",
            "  ... # doctest: +SKIP\n",
            "\n",
            "For some objects, ``np.info(obj)`` may provide additional help.  This is\n",
            "particularly true if you see the line \"Help on ufunc object:\" at the top\n",
            "of the help() page.  Ufuncs are implemented in C, not Python, for speed.\n",
            "The native Python help() does not know how to view their help, but our\n",
            "np.info() function does.\n",
            "\n",
            "Available subpackages\n",
            "---------------------\n",
            "lib\n",
            "    Basic functions used by several sub-packages.\n",
            "random\n",
            "    Core Random Tools\n",
            "linalg\n",
            "    Core Linear Algebra Tools\n",
            "fft\n",
            "    Core FFT routines\n",
            "polynomial\n",
            "    Polynomial tools\n",
            "testing\n",
            "    NumPy testing tools\n",
            "distutils\n",
            "    Enhancements to distutils with support for\n",
            "    Fortran compilers support and more (for Python <= 3.11)\n",
            "\n",
            "Utilities\n",
            "---------\n",
            "test\n",
            "    Run numpy unittests\n",
            "show_config\n",
            "    Show numpy build configuration\n",
            "__version__\n",
            "    NumPy version string\n",
            "\n",
            "Viewing documentation using IPython\n",
            "-----------------------------------\n",
            "\n",
            "Start IPython and import `numpy` usually under the alias ``np``: `import\n",
            "numpy as np`.  Then, directly past or use the ``%cpaste`` magic to paste\n",
            "examples into the shell.  To see which functions are available in `numpy`,\n",
            "type ``np.<TAB>`` (where ``<TAB>`` refers to the TAB key), or use\n",
            "``np.*cos*?<ENTER>`` (where ``<ENTER>`` refers to the ENTER key) to narrow\n",
            "down the list.  To view the docstring for a function, use\n",
            "``np.cos?<ENTER>`` (to view the docstring) and ``np.cos??<ENTER>`` (to view\n",
            "the source code).\n",
            "\n",
            "Copies vs. in-place operation\n",
            "-----------------------------\n",
            "Most of the functions in `numpy` return a copy of the array argument\n",
            "(e.g., `np.sort`).  In-place versions of these functions are often\n",
            "available as array methods, i.e. ``x = np.array([1,2,3]); x.sort()``.\n",
            "Exceptions to this rule are documented.\n",
            "\n",
            "\n"
          ]
        }
      ]
    },
    {
      "cell_type": "code",
      "source": [
        "\"\"\" f(x) = sqrt(25-x*x) \"\"\"\n",
        "\n",
        "import math\n",
        "\n",
        "def f(x):\n",
        "  return math.sqrt(abs(25 - x**2))\n",
        "\n",
        "def f_prime(x):\n",
        "  if x == -5 or x == 5:\n",
        "    return 0\n",
        "  else:\n",
        "    return -x / math.sqrt(25 - x**2)\n",
        "\n",
        "def numerical_derivative(x, y, h):\n",
        "  n = len(x)\n",
        "  v = [0] * n\n",
        "  for i in range(n):\n",
        "    v[i] = (f(x[i] + h) - f(x[i] - h)) / 2*h\n",
        "    #v[i] = (y[i+1] - y[i-1]) / 2*h\n",
        "  return v\n",
        "\n",
        "def estimate_error(v, z):\n",
        "  return sum(abs(vi - zi) for vi, zi in zip(v, z)) / len(v)\n",
        "\n",
        "def merge_everything(h):\n",
        "  x = [-5 + i * h for i in range(int((5 - (-5)/h)))]\n",
        "  y = [f(xi) for xi in x]\n",
        "  z = [f_prime(xi) for xi in x]\n",
        "  v = numerical_derivative(x, y, h)\n",
        "  error = estimate_error(v, z)\n",
        "  return x, y, z, v, error\n",
        "\n",
        "#h = float(input(\"Enter the value of h: \"))\n",
        "h_values = [0.1, 0.05, 0.02, 0.01]\n",
        "errors = []\n",
        "\n",
        "for h in h_values:\n",
        "    x, y, z, v, error = merge_everything(h)\n",
        "    errors.append(error)\n",
        "    print(f\"For h = {h:.2f}, E(h) = error = {error:.5f}\")\n",
        "\n",
        "print(\"All Errors:\", errors)\n",
        "\n",
        "\n"
      ],
      "metadata": {
        "colab": {
          "base_uri": "https://localhost:8080/"
        },
        "id": "qm9mO2GeODIe",
        "outputId": "b43b59c5-f75a-4349-a83d-03ffcc3e6189"
      },
      "execution_count": null,
      "outputs": [
        {
          "output_type": "stream",
          "name": "stdout",
          "text": [
            "For h = 0.10, E(h) = error = 0.77202\n",
            "For h = 0.05, E(h) = error = 0.85287\n",
            "For h = 0.02, E(h) = error = 0.91617\n",
            "For h = 0.01, E(h) = error = 0.94433\n",
            "All Errors: [0.7720155775581099, 0.8528710145141342, 0.9161719393533709, 0.9443289350958298]\n"
          ]
        }
      ]
    },
    {
      "cell_type": "markdown",
      "source": [],
      "metadata": {
        "id": "4UqhGKJi5beV"
      }
    },
    {
      "cell_type": "code",
      "source": [
        "! pip install numpy"
      ],
      "metadata": {
        "colab": {
          "base_uri": "https://localhost:8080/"
        },
        "id": "K-N-fKSX5boO",
        "outputId": "5d3e3f23-0bd9-4384-ea83-152b6e65e5a3"
      },
      "execution_count": null,
      "outputs": [
        {
          "output_type": "stream",
          "name": "stdout",
          "text": [
            "Requirement already satisfied: numpy in /usr/local/lib/python3.11/dist-packages (2.0.2)\n"
          ]
        }
      ]
    },
    {
      "cell_type": "code",
      "source": [
        "z = [0.1,0.9, 34.6, 55, 66, 88.6]\n",
        "v = [0.001, 3.456, 54.33, 45.67, 55, 78]\n",
        "\n",
        "for zi, vi in zip(z, v):\n",
        "  print(zi, vi)"
      ],
      "metadata": {
        "colab": {
          "base_uri": "https://localhost:8080/"
        },
        "id": "bI3GvKcBhtGB",
        "outputId": "1ca9c05a-a599-4733-a486-222fb7b95cd5"
      },
      "execution_count": null,
      "outputs": [
        {
          "output_type": "stream",
          "name": "stdout",
          "text": [
            "0.1 0.001\n",
            "0.9 3.456\n",
            "34.6 54.33\n",
            "55 45.67\n",
            "66 55\n",
            "88.6 78\n"
          ]
        }
      ]
    },
    {
      "cell_type": "code",
      "source": [
        "\"\"\" With an initial list [8,9,10] perform a series of operation (setting the second entry,adding the elements to the end removing the first entry,sorting/doubling the list,inserting an element).\"\"\"\n",
        "\n"
      ],
      "metadata": {
        "id": "1yUQJcAowm95"
      },
      "execution_count": null,
      "outputs": []
    },
    {
      "cell_type": "code",
      "source": [
        "class Vehicles:\n",
        "  def __init__(self, make, model, year):\n",
        "    self.make = make\n",
        "    self.model = model\n",
        "    self.year = year\n",
        "\n",
        "  def resale_value(self):\n",
        "    pass\n",
        "\n",
        "  def start_engine(self):\n",
        "    print(\"Engine started\")\n",
        "\n",
        "  def stop_engine(self):\n",
        "    print(\"Engine stopped\")\n",
        "\n",
        "class Car(Vehicles):\n",
        "  def __init__(self, make, model, year, num_doors):\n",
        "    super().__init__(make, model, year)\n",
        "    self.num_doors = num_doors\n",
        "\n",
        "  def resale_value(self):\n",
        "    print(\"Resale Value: xxx\")\n",
        "\n",
        "class Bike(Vehicles):\n",
        "  def __init__(self, make, model, year, num_gears):\n",
        "    super().__init__(make, model, year)\n",
        "    self.num_gears = num_gears\n",
        "\n",
        "  def resale_value(self):\n",
        "    print(\"Resale Value: yyy\")\n",
        "\n",
        "car1 = Car(\"Toyota\", \"Innova\", 2022, 4)\n",
        "print(car1.make)\n",
        "print(car1.model)\n",
        "print(car1.year)\n",
        "print(car1.num_doors)\n",
        "car1.resale_value()\n",
        "car1.start_engine()\n",
        "car1.stop_engine()\n",
        "\n",
        "Bike1 = Bike(\"Honda\", \"CBR\", 2021, 12)\n",
        "print(Bike1.make)\n",
        "print(Bike1.model)\n",
        "print(Bike1.year)\n",
        "print(Bike1.num_gears)\n",
        "Bike1.resale_value()\n",
        "Bike1.start_engine()"
      ],
      "metadata": {
        "colab": {
          "base_uri": "https://localhost:8080/"
        },
        "id": "Zj4bVhkBuv5E",
        "outputId": "38f85e94-d8da-49d7-edd4-ffc9efcec061"
      },
      "execution_count": null,
      "outputs": [
        {
          "output_type": "stream",
          "name": "stdout",
          "text": [
            "Toyota\n",
            "Innova\n",
            "2022\n",
            "4\n",
            "Resale Value: xxx\n",
            "Engine started\n",
            "Engine stopped\n",
            "Honda\n",
            "CBR\n",
            "2021\n",
            "12\n",
            "Resale Value: yyy\n",
            "Engine started\n"
          ]
        }
      ]
    },
    {
      "cell_type": "code",
      "source": [],
      "metadata": {
        "id": "tBztuDih4t-z"
      },
      "execution_count": null,
      "outputs": []
    },
    {
      "cell_type": "code",
      "source": [],
      "metadata": {
        "id": "RKVu3nsnwjMr"
      },
      "execution_count": null,
      "outputs": []
    },
    {
      "cell_type": "code",
      "source": [
        "\"\"\" Object oriented programming language\"\"\"\n",
        "\"\"\" Object oriented programming language\"\"\"\n",
        "\n",
        "class Dog:\n",
        "  def __init__(self, name, breed):\n",
        "    self.name = name\n",
        "    self.breed = breed\n",
        "\n",
        "  def bark(self):\n",
        "    print(\"woof! woof!\")\n",
        "\n",
        "dog = Dog(\"Tommy\", \"Labrador\")\n",
        "print(dog.name)\n",
        "print(dog.breed)\n",
        "dog.bark()"
      ],
      "metadata": {
        "colab": {
          "base_uri": "https://localhost:8080/"
        },
        "id": "JZrsBBcchauX",
        "outputId": "e5f84e1a-9248-42a3-b516-08555727b1ce"
      },
      "execution_count": null,
      "outputs": [
        {
          "output_type": "stream",
          "name": "stdout",
          "text": [
            "Tommy\n",
            "Labrador\n",
            "woof! woof\n"
          ]
        }
      ]
    },
    {
      "cell_type": "code",
      "source": [
        "''' Guessing !!\n",
        "generate a random integer and store it in a varriable\n",
        "Ask the user to guess\n",
        "At every wrong guess provide whether the useer is below or above the number\n",
        "'''\n",
        "import random\n",
        "number = random.randint(100,500)\n",
        "guess = 0\n",
        "guess_left = 3\n",
        "while guess_left > 0:\n",
        "  guess = int(input(\"enter your guess\"))\n",
        "  guess_left -= 1\n",
        "  if guess == number:\n",
        "    print(\"you won\")\n",
        "    break\n",
        "  elif guess < number:\n",
        "    print(\"Your guess is below no:\")\n",
        "  else:\n",
        "    print(\"Your guess is above no:\")\n",
        "if guess != number:\n",
        "  print(\"you lost\", number)\n"
      ],
      "metadata": {
        "colab": {
          "base_uri": "https://localhost:8080/"
        },
        "id": "R6ci0a5ud5Uq",
        "outputId": "85f2ab66-1c05-4f8d-92bd-7f0ccf84d8c5"
      },
      "execution_count": null,
      "outputs": [
        {
          "output_type": "stream",
          "name": "stdout",
          "text": [
            "enter your guess512\n",
            "Your guess is above no:\n",
            "enter your guess200\n",
            "Your guess is below no:\n",
            "enter your guess250\n",
            "Your guess is below no:\n",
            "you lost 431\n"
          ]
        }
      ]
    },
    {
      "cell_type": "code",
      "source": [
        "\"\"\" AUC by Trapezoidal Rule including approximation of error  \"\"\"\n",
        "\n",
        "import math\n",
        "import os\n",
        "\n",
        "def f(x):\n",
        "  return math.sqrt(25 - x**2)\n",
        "\n",
        "def trapezoidal_rule(h):\n",
        "  n = int(5/h)\n",
        "  x = 0\n",
        "  A_h = 0\n",
        "\n",
        "  for i in range(n+1):\n",
        "    x_next = min(x + h, 5)\n",
        "    A_h += (x_next - x) / 2 * (f(x) + f(x_next))\n",
        "    x = x_next\n",
        "  return A_h"
      ],
      "metadata": {
        "id": "ILTovPpG1t3l"
      },
      "execution_count": null,
      "outputs": []
    },
    {
      "cell_type": "code",
      "source": [],
      "metadata": {
        "id": "6aAED8Iv2ug9"
      },
      "execution_count": null,
      "outputs": []
    },
    {
      "cell_type": "code",
      "source": [
        "'''Tasked with creating a program that generates random password.\n",
        "The password should be eight characters long and include a mix of uppercase letters,lowercase letters,numbers and special characters.''''''To make it even more interesting the program should also classify the generated password as easy,medium or strong based on its complexity'''\n",
        "password = input(\"Enter the password\")\n",
        "while len(password) < 8:\n",
        "  print(\"Password is too short\")\n",
        "  password = Input(\"Enter the password Again\")\n",
        "uppercase = \"ABCDEFGHIJKLMNOPQRSTUVWXYZ\"\n",
        "lowercase = \"abcdefghijklmnopqrstuvwxyz\"\n",
        "numbers = \"0123456789\"\n",
        "special = \"!@#$%^&*()_+\"\n",
        "\n",
        "if any(pswrd.islower() for pswrd in password):\n",
        "  print(\"Password has lowercase\")\n",
        "else:\n",
        "  print(\"Password has no lowercase\")\n",
        "if any(pswrd.isupper() for pswrd in password):\n",
        "  print(\"Password has uppercase\")\n",
        "else:\n",
        "  print(\"Password has no uppercase\")\n",
        "if any(pswrd.isdigit() for pswrd in password):\n",
        "  print(\"Password has numbers\")\n",
        "else:\n",
        "  print(\"Password has no numbers\")\n",
        "if any(pswrd.isalnum() for pswrd in password):\n",
        "  print(\"Password has special characters\")\n",
        "else:\n",
        "  print(\"Password has no special characters\")\n"
      ],
      "metadata": {
        "colab": {
          "base_uri": "https://localhost:8080/"
        },
        "id": "0I4J_OjA9hvZ",
        "outputId": "7fce2b29-df0b-4b91-af3e-edaa4486348e"
      },
      "execution_count": null,
      "outputs": [
        {
          "output_type": "stream",
          "name": "stdout",
          "text": [
            "Enter the passwordpriyam023002\n",
            "Password has lowercase\n",
            "Password has no uppercase\n",
            "Password has numbers\n",
            "Password has special characters\n"
          ]
        }
      ]
    },
    {
      "cell_type": "code",
      "source": [
        "\"\"\"To classify the generated password as easy,medium or strong based on its complexity\"\"\"\n",
        "sum = 0\n",
        "for pswrd in password:\n",
        "  if pswrd.islower():\n",
        "    sum += 1\n",
        "  elif pswrd.isupper():\n",
        "    sum += 2\n",
        "  elif pswrd.isdigit():\n",
        "    sum += 3\n",
        "  elif pswrd.isalnum():\n",
        "    sum += 1\n",
        "  elif pswrd in special_chars:\n",
        "    sum += 1.5\n",
        "if sum < 11.5:\n",
        " print(\"Password is easy\")\n",
        "elif sum < 24.5:\n",
        " print(\"Password is medium\")\n",
        "else:\n",
        " print(\"Password is strong\")"
      ],
      "metadata": {
        "colab": {
          "base_uri": "https://localhost:8080/"
        },
        "id": "35F1_S57Gofj",
        "outputId": "b061105f-a882-4004-b0fc-596862c8b6c4"
      },
      "execution_count": null,
      "outputs": [
        {
          "output_type": "stream",
          "name": "stdout",
          "text": [
            "Password is medium\n"
          ]
        }
      ]
    },
    {
      "cell_type": "code",
      "source": [
        "import random\n",
        "import string\n",
        "password = \"\".join(random.sample(password, 8))"
      ],
      "metadata": {
        "id": "HNMDpWLCLevf"
      },
      "execution_count": null,
      "outputs": []
    },
    {
      "cell_type": "code",
      "source": [
        "''' Guessing !!\n",
        "generate a random integer and store it in a varriable\n",
        "Ask the user to guess\n",
        "At every wrong guess provide the following clue:\n",
        "1)if the guess is less than the number d1 is less than d2(euclidean distance with redpect to minima and maxima 100 and 500 in this case respectively)\n",
        "'''\n",
        "import math\n",
        "import random\n",
        "number = random.randint(100,500)\n",
        "guess = 0\n",
        "guess_left = 3\n",
        "d1 = math.sqrt((number**2)-(100**2))\n",
        "d2 = math.sqrt((500**2)-(number**2))\n",
        "if guess == number:\n",
        "  print(\"you won\")\n",
        "break\n",
        "elif (guess > number) and (d1 < d2):\n",
        "    print(\"Your guess is below no:\\n\")\n",
        "    print(\"Hint! No. is towards minima\\n\")\n",
        "elif (guess < number) and (d1 > d2):\n",
        "    print(\"Your guess is below no:\\n\")\n",
        "    print(\"Hint! No. is towards maxima\\n\")\n",
        "if guess != number:\n",
        "    print(\"you lost\", number)"
      ],
      "metadata": {
        "colab": {
          "base_uri": "https://localhost:8080/",
          "height": 106
        },
        "id": "4sht4uWHj_Gs",
        "outputId": "190ca7bb-fbfd-492f-dc4e-1e64622c96f8"
      },
      "execution_count": null,
      "outputs": [
        {
          "output_type": "error",
          "ename": "SyntaxError",
          "evalue": "invalid syntax (<ipython-input-18-861efc7d5a5b>, line 17)",
          "traceback": [
            "\u001b[0;36m  File \u001b[0;32m\"<ipython-input-18-861efc7d5a5b>\"\u001b[0;36m, line \u001b[0;32m17\u001b[0m\n\u001b[0;31m    elif (guess > number) and (d1 < d2):\u001b[0m\n\u001b[0m    ^\u001b[0m\n\u001b[0;31mSyntaxError\u001b[0m\u001b[0;31m:\u001b[0m invalid syntax\n"
          ]
        }
      ]
    },
    {
      "cell_type": "code",
      "source": [],
      "metadata": {
        "id": "cMncUFKyj7wA"
      },
      "execution_count": null,
      "outputs": []
    },
    {
      "cell_type": "code",
      "execution_count": null,
      "metadata": {
        "colab": {
          "base_uri": "https://localhost:8080/"
        },
        "id": "u8Pdu0vdrRi-",
        "outputId": "4cd1d73b-ec41-47a1-faa1-80b251575b62"
      },
      "outputs": [
        {
          "output_type": "stream",
          "name": "stdout",
          "text": [
            "x=2\n"
          ]
        }
      ],
      "source": [
        "print(\"x=2\")"
      ]
    },
    {
      "cell_type": "code",
      "source": [
        "import math\n",
        "result = math.sqrt(484)\n",
        "print(result)"
      ],
      "metadata": {
        "colab": {
          "base_uri": "https://localhost:8080/"
        },
        "id": "O6KU7ypgWFug",
        "outputId": "ae87eb09-6e21-4bb9-e76f-c06e7ef26c14"
      },
      "execution_count": null,
      "outputs": [
        {
          "output_type": "stream",
          "name": "stdout",
          "text": [
            "22.0\n"
          ]
        }
      ]
    },
    {
      "cell_type": "code",
      "source": [
        "import random\n",
        "random.randint(1,10)"
      ],
      "metadata": {
        "colab": {
          "base_uri": "https://localhost:8080/"
        },
        "id": "P5mj-W7UdTkc",
        "outputId": "af7d92fb-59ab-42c8-b867-3edb674babb4"
      },
      "execution_count": null,
      "outputs": [
        {
          "output_type": "execute_result",
          "data": {
            "text/plain": [
              "5"
            ]
          },
          "metadata": {},
          "execution_count": 10
        }
      ]
    },
    {
      "cell_type": "code",
      "source": [
        "random.uniform(10,30)"
      ],
      "metadata": {
        "colab": {
          "base_uri": "https://localhost:8080/"
        },
        "id": "txnwQdhUdqmB",
        "outputId": "d5ef36df-a85e-403e-d2fd-dff83b8a0a4b"
      },
      "execution_count": null,
      "outputs": [
        {
          "output_type": "execute_result",
          "data": {
            "text/plain": [
              "23.16595948245898"
            ]
          },
          "metadata": {},
          "execution_count": 11
        }
      ]
    },
    {
      "cell_type": "code",
      "source": [
        "content = input(\"enter the content\")\n",
        "file = open(\"file.txt\",\"w\")\n",
        "file.write(content)\n",
        "file.close()\n"
      ],
      "metadata": {
        "colab": {
          "base_uri": "https://localhost:8080/"
        },
        "id": "8NSWZPUa1UFt",
        "outputId": "7eb9ec61-1934-4229-c2bd-b26dbf34b2a8"
      },
      "execution_count": null,
      "outputs": [
        {
          "name": "stdout",
          "output_type": "stream",
          "text": [
            "enter the contentHi, I am doing the pythpn clas\n"
          ]
        }
      ]
    },
    {
      "cell_type": "code",
      "source": [
        "\"\"\"\n",
        "This is a program for finding prime numbers in the range of 0 to 100\n",
        "\"\"\"\n",
        "# This loop is for numbers from 2 to 100\n",
        "for i in range (2,101):\n",
        "  is_prime = True\n",
        "  #This is for checking num is prime or not\n",
        "  for j in range(2,i):\n",
        "    # IF the num is divisible by the numbers from 2 to num\n",
        "    if i%j == 0:\n",
        "      is_prime = False\n",
        "      print(i, \"Not a prime no.\")\n",
        "      #come out of the loop once is_prime is false\n",
        "      break\n",
        "  if is_prime == True:\n",
        "     print(i, \"prime no.\")"
      ],
      "metadata": {
        "colab": {
          "base_uri": "https://localhost:8080/"
        },
        "id": "Yuph4musb8lf",
        "outputId": "0094590f-d0df-4628-dd07-03d866020008"
      },
      "execution_count": null,
      "outputs": [
        {
          "output_type": "stream",
          "name": "stdout",
          "text": [
            "2 prime no.\n",
            "3 prime no.\n",
            "4 Not a prime no.\n",
            "5 prime no.\n",
            "6 Not a prime no.\n",
            "7 prime no.\n",
            "8 Not a prime no.\n",
            "9 Not a prime no.\n",
            "10 Not a prime no.\n",
            "11 prime no.\n",
            "12 Not a prime no.\n",
            "13 prime no.\n",
            "14 Not a prime no.\n",
            "15 Not a prime no.\n",
            "16 Not a prime no.\n",
            "17 prime no.\n",
            "18 Not a prime no.\n",
            "19 prime no.\n",
            "20 Not a prime no.\n",
            "21 Not a prime no.\n",
            "22 Not a prime no.\n",
            "23 prime no.\n",
            "24 Not a prime no.\n",
            "25 Not a prime no.\n",
            "26 Not a prime no.\n",
            "27 Not a prime no.\n",
            "28 Not a prime no.\n",
            "29 prime no.\n",
            "30 Not a prime no.\n",
            "31 prime no.\n",
            "32 Not a prime no.\n",
            "33 Not a prime no.\n",
            "34 Not a prime no.\n",
            "35 Not a prime no.\n",
            "36 Not a prime no.\n",
            "37 prime no.\n",
            "38 Not a prime no.\n",
            "39 Not a prime no.\n",
            "40 Not a prime no.\n",
            "41 prime no.\n",
            "42 Not a prime no.\n",
            "43 prime no.\n",
            "44 Not a prime no.\n",
            "45 Not a prime no.\n",
            "46 Not a prime no.\n",
            "47 prime no.\n",
            "48 Not a prime no.\n",
            "49 Not a prime no.\n",
            "50 Not a prime no.\n",
            "51 Not a prime no.\n",
            "52 Not a prime no.\n",
            "53 prime no.\n",
            "54 Not a prime no.\n",
            "55 Not a prime no.\n",
            "56 Not a prime no.\n",
            "57 Not a prime no.\n",
            "58 Not a prime no.\n",
            "59 prime no.\n",
            "60 Not a prime no.\n",
            "61 prime no.\n",
            "62 Not a prime no.\n",
            "63 Not a prime no.\n",
            "64 Not a prime no.\n",
            "65 Not a prime no.\n",
            "66 Not a prime no.\n",
            "67 prime no.\n",
            "68 Not a prime no.\n",
            "69 Not a prime no.\n",
            "70 Not a prime no.\n",
            "71 prime no.\n",
            "72 Not a prime no.\n",
            "73 prime no.\n",
            "74 Not a prime no.\n",
            "75 Not a prime no.\n",
            "76 Not a prime no.\n",
            "77 Not a prime no.\n",
            "78 Not a prime no.\n",
            "79 prime no.\n",
            "80 Not a prime no.\n",
            "81 Not a prime no.\n",
            "82 Not a prime no.\n",
            "83 prime no.\n",
            "84 Not a prime no.\n",
            "85 Not a prime no.\n",
            "86 Not a prime no.\n",
            "87 Not a prime no.\n",
            "88 Not a prime no.\n",
            "89 prime no.\n",
            "90 Not a prime no.\n",
            "91 Not a prime no.\n",
            "92 Not a prime no.\n",
            "93 Not a prime no.\n",
            "94 Not a prime no.\n",
            "95 Not a prime no.\n",
            "96 Not a prime no.\n",
            "97 prime no.\n",
            "98 Not a prime no.\n",
            "99 Not a prime no.\n",
            "100 Not a prime no.\n"
          ]
        }
      ]
    },
    {
      "cell_type": "code",
      "source": [
        "\"\"\"\n",
        "This a program for finding leap years in the range of 1900 to 2100\n",
        "\"\"\"\n",
        "for year in range(1900,2101):\n",
        "  if year%4 == 0:\n",
        "    if year%100 != 0:\n",
        "\n",
        "          print(year, \"is a leap year\")\n",
        "          continue\n",
        "  else:\n",
        "      if year%400 == 0:\n",
        "        print(year, \"is a leap year\")\n",
        "        continue\n",
        "      else:\n",
        "        print(year, \"is not a leap year\")\n"
      ],
      "metadata": {
        "colab": {
          "base_uri": "https://localhost:8080/"
        },
        "id": "GzGHqyr2q-ph",
        "outputId": "7d1f11af-b9cf-49a8-efaf-ebab32167ee9"
      },
      "execution_count": null,
      "outputs": [
        {
          "output_type": "stream",
          "name": "stdout",
          "text": [
            "1901 is not a leap year\n",
            "1902 is not a leap year\n",
            "1903 is not a leap year\n",
            "1904 is a leap year\n",
            "1905 is not a leap year\n",
            "1906 is not a leap year\n",
            "1907 is not a leap year\n",
            "1908 is a leap year\n",
            "1909 is not a leap year\n",
            "1910 is not a leap year\n",
            "1911 is not a leap year\n",
            "1912 is a leap year\n",
            "1913 is not a leap year\n",
            "1914 is not a leap year\n",
            "1915 is not a leap year\n",
            "1916 is a leap year\n",
            "1917 is not a leap year\n",
            "1918 is not a leap year\n",
            "1919 is not a leap year\n",
            "1920 is a leap year\n",
            "1921 is not a leap year\n",
            "1922 is not a leap year\n",
            "1923 is not a leap year\n",
            "1924 is a leap year\n",
            "1925 is not a leap year\n",
            "1926 is not a leap year\n",
            "1927 is not a leap year\n",
            "1928 is a leap year\n",
            "1929 is not a leap year\n",
            "1930 is not a leap year\n",
            "1931 is not a leap year\n",
            "1932 is a leap year\n",
            "1933 is not a leap year\n",
            "1934 is not a leap year\n",
            "1935 is not a leap year\n",
            "1936 is a leap year\n",
            "1937 is not a leap year\n",
            "1938 is not a leap year\n",
            "1939 is not a leap year\n",
            "1940 is a leap year\n",
            "1941 is not a leap year\n",
            "1942 is not a leap year\n",
            "1943 is not a leap year\n",
            "1944 is a leap year\n",
            "1945 is not a leap year\n",
            "1946 is not a leap year\n",
            "1947 is not a leap year\n",
            "1948 is a leap year\n",
            "1949 is not a leap year\n",
            "1950 is not a leap year\n",
            "1951 is not a leap year\n",
            "1952 is a leap year\n",
            "1953 is not a leap year\n",
            "1954 is not a leap year\n",
            "1955 is not a leap year\n",
            "1956 is a leap year\n",
            "1957 is not a leap year\n",
            "1958 is not a leap year\n",
            "1959 is not a leap year\n",
            "1960 is a leap year\n",
            "1961 is not a leap year\n",
            "1962 is not a leap year\n",
            "1963 is not a leap year\n",
            "1964 is a leap year\n",
            "1965 is not a leap year\n",
            "1966 is not a leap year\n",
            "1967 is not a leap year\n",
            "1968 is a leap year\n",
            "1969 is not a leap year\n",
            "1970 is not a leap year\n",
            "1971 is not a leap year\n",
            "1972 is a leap year\n",
            "1973 is not a leap year\n",
            "1974 is not a leap year\n",
            "1975 is not a leap year\n",
            "1976 is a leap year\n",
            "1977 is not a leap year\n",
            "1978 is not a leap year\n",
            "1979 is not a leap year\n",
            "1980 is a leap year\n",
            "1981 is not a leap year\n",
            "1982 is not a leap year\n",
            "1983 is not a leap year\n",
            "1984 is a leap year\n",
            "1985 is not a leap year\n",
            "1986 is not a leap year\n",
            "1987 is not a leap year\n",
            "1988 is a leap year\n",
            "1989 is not a leap year\n",
            "1990 is not a leap year\n",
            "1991 is not a leap year\n",
            "1992 is a leap year\n",
            "1993 is not a leap year\n",
            "1994 is not a leap year\n",
            "1995 is not a leap year\n",
            "1996 is a leap year\n",
            "1997 is not a leap year\n",
            "1998 is not a leap year\n",
            "1999 is not a leap year\n",
            "2001 is not a leap year\n",
            "2002 is not a leap year\n",
            "2003 is not a leap year\n",
            "2004 is a leap year\n",
            "2005 is not a leap year\n",
            "2006 is not a leap year\n",
            "2007 is not a leap year\n",
            "2008 is a leap year\n",
            "2009 is not a leap year\n",
            "2010 is not a leap year\n",
            "2011 is not a leap year\n",
            "2012 is a leap year\n",
            "2013 is not a leap year\n",
            "2014 is not a leap year\n",
            "2015 is not a leap year\n",
            "2016 is a leap year\n",
            "2017 is not a leap year\n",
            "2018 is not a leap year\n",
            "2019 is not a leap year\n",
            "2020 is a leap year\n",
            "2021 is not a leap year\n",
            "2022 is not a leap year\n",
            "2023 is not a leap year\n",
            "2024 is a leap year\n",
            "2025 is not a leap year\n",
            "2026 is not a leap year\n",
            "2027 is not a leap year\n",
            "2028 is a leap year\n",
            "2029 is not a leap year\n",
            "2030 is not a leap year\n",
            "2031 is not a leap year\n",
            "2032 is a leap year\n",
            "2033 is not a leap year\n",
            "2034 is not a leap year\n",
            "2035 is not a leap year\n",
            "2036 is a leap year\n",
            "2037 is not a leap year\n",
            "2038 is not a leap year\n",
            "2039 is not a leap year\n",
            "2040 is a leap year\n",
            "2041 is not a leap year\n",
            "2042 is not a leap year\n",
            "2043 is not a leap year\n",
            "2044 is a leap year\n",
            "2045 is not a leap year\n",
            "2046 is not a leap year\n",
            "2047 is not a leap year\n",
            "2048 is a leap year\n",
            "2049 is not a leap year\n",
            "2050 is not a leap year\n",
            "2051 is not a leap year\n",
            "2052 is a leap year\n",
            "2053 is not a leap year\n",
            "2054 is not a leap year\n",
            "2055 is not a leap year\n",
            "2056 is a leap year\n",
            "2057 is not a leap year\n",
            "2058 is not a leap year\n",
            "2059 is not a leap year\n",
            "2060 is a leap year\n",
            "2061 is not a leap year\n",
            "2062 is not a leap year\n",
            "2063 is not a leap year\n",
            "2064 is a leap year\n",
            "2065 is not a leap year\n",
            "2066 is not a leap year\n",
            "2067 is not a leap year\n",
            "2068 is a leap year\n",
            "2069 is not a leap year\n",
            "2070 is not a leap year\n",
            "2071 is not a leap year\n",
            "2072 is a leap year\n",
            "2073 is not a leap year\n",
            "2074 is not a leap year\n",
            "2075 is not a leap year\n",
            "2076 is a leap year\n",
            "2077 is not a leap year\n",
            "2078 is not a leap year\n",
            "2079 is not a leap year\n",
            "2080 is a leap year\n",
            "2081 is not a leap year\n",
            "2082 is not a leap year\n",
            "2083 is not a leap year\n",
            "2084 is a leap year\n",
            "2085 is not a leap year\n",
            "2086 is not a leap year\n",
            "2087 is not a leap year\n",
            "2088 is a leap year\n",
            "2089 is not a leap year\n",
            "2090 is not a leap year\n",
            "2091 is not a leap year\n",
            "2092 is a leap year\n",
            "2093 is not a leap year\n",
            "2094 is not a leap year\n",
            "2095 is not a leap year\n",
            "2096 is a leap year\n",
            "2097 is not a leap year\n",
            "2098 is not a leap year\n",
            "2099 is not a leap year\n"
          ]
        }
      ]
    },
    {
      "cell_type": "code",
      "source": [
        "a=-101\n",
        "b=-21\n",
        "(a&[(a^b)>>31])|(b&[(a^b)>>31])"
      ],
      "metadata": {
        "colab": {
          "base_uri": "https://localhost:8080/",
          "height": 176
        },
        "id": "-AvuS85sxblq",
        "outputId": "0a6d46e0-2374-43d2-b0d8-6ce129f46d35"
      },
      "execution_count": null,
      "outputs": [
        {
          "output_type": "error",
          "ename": "TypeError",
          "evalue": "unsupported operand type(s) for &: 'int' and 'list'",
          "traceback": [
            "\u001b[0;31m---------------------------------------------------------------------------\u001b[0m",
            "\u001b[0;31mTypeError\u001b[0m                                 Traceback (most recent call last)",
            "\u001b[0;32m<ipython-input-2-0c2a246d813b>\u001b[0m in \u001b[0;36m<cell line: 0>\u001b[0;34m()\u001b[0m\n\u001b[1;32m      1\u001b[0m \u001b[0ma\u001b[0m\u001b[0;34m=\u001b[0m\u001b[0;34m-\u001b[0m\u001b[0;36m101\u001b[0m\u001b[0;34m\u001b[0m\u001b[0;34m\u001b[0m\u001b[0m\n\u001b[1;32m      2\u001b[0m \u001b[0mb\u001b[0m\u001b[0;34m=\u001b[0m\u001b[0;34m-\u001b[0m\u001b[0;36m21\u001b[0m\u001b[0;34m\u001b[0m\u001b[0;34m\u001b[0m\u001b[0m\n\u001b[0;32m----> 3\u001b[0;31m \u001b[0;34m(\u001b[0m\u001b[0ma\u001b[0m\u001b[0;34m&\u001b[0m\u001b[0;34m[\u001b[0m\u001b[0;34m(\u001b[0m\u001b[0ma\u001b[0m\u001b[0;34m^\u001b[0m\u001b[0mb\u001b[0m\u001b[0;34m)\u001b[0m\u001b[0;34m>>\u001b[0m\u001b[0;36m31\u001b[0m\u001b[0;34m]\u001b[0m\u001b[0;34m)\u001b[0m\u001b[0;34m|\u001b[0m\u001b[0;34m(\u001b[0m\u001b[0mb\u001b[0m\u001b[0;34m&\u001b[0m\u001b[0;34m[\u001b[0m\u001b[0;34m(\u001b[0m\u001b[0ma\u001b[0m\u001b[0;34m^\u001b[0m\u001b[0mb\u001b[0m\u001b[0;34m)\u001b[0m\u001b[0;34m>>\u001b[0m\u001b[0;36m31\u001b[0m\u001b[0;34m]\u001b[0m\u001b[0;34m)\u001b[0m\u001b[0;34m\u001b[0m\u001b[0;34m\u001b[0m\u001b[0m\n\u001b[0m",
            "\u001b[0;31mTypeError\u001b[0m: unsupported operand type(s) for &: 'int' and 'list'"
          ]
        }
      ]
    },
    {
      "cell_type": "code",
      "source": [
        "x = 12\n",
        "if x < 5:\n",
        "  print(x)\n",
        "elif x>2:\n",
        "  print(x)\n",
        "else:\n",
        "  print(\"x is greater than 5\")\n"
      ],
      "metadata": {
        "colab": {
          "base_uri": "https://localhost:8080/"
        },
        "id": "e3x3nmjJ0Sb2",
        "outputId": "c323b4f2-68e9-412a-b8ac-7fbe0a837203"
      },
      "execution_count": null,
      "outputs": [
        {
          "output_type": "stream",
          "name": "stdout",
          "text": [
            "12\n"
          ]
        }
      ]
    },
    {
      "cell_type": "code",
      "source": [
        "science = eval(input(\"enter science marks\"))\n",
        "maths = eval(input(\"enter maths marks\"))\n",
        "english = eval(input(\"enter english marks\"))\n",
        "hindi = eval(input(\"enter hindi marks\"))\n",
        "sum = science + maths + english + hindi\n",
        "percentage = sum/400\n",
        "if percentage >85:\n",
        "  grade = 'A'\n",
        "elif percentage > 65:\n",
        "  grade ='B'a=10\n",
        "b=20\n",
        "c=14\n",
        "d=12\n",
        "elif percentage > 45:\n",
        "  grade = 'C'\n",
        "else:\n",
        " grade = 'D'\n",
        "print(\"grade is \",grade)"
      ],
      "metadata": {
        "colab": {
          "base_uri": "https://localhost:8080/"
        },
        "id": "T4Lh8hY74Gx2",
        "outputId": "31724bc4-68ed-4d67-dd8b-549f0ab6d0e0"
      },
      "execution_count": null,
      "outputs": [
        {
          "output_type": "stream",
          "name": "stdout",
          "text": [
            "enter science marks91\n",
            "enter maths marks88\n",
            "enter english marks87\n",
            "enter hindi marks81\n",
            "grade is  D\n"
          ]
        }
      ]
    },
    {
      "cell_type": "markdown",
      "source": [],
      "metadata": {
        "id": "B1JDqfto047y"
      }
    },
    {
      "cell_type": "code",
      "source": [
        "a=10\n",
        "b=20\n",
        "c=14\n",
        "d=12\n",
        "min1=a<d<c<b\n",
        "min2=b<c<d<a\n",
        "min3=c<d<a<b\n",
        "min4=d<a<b<c\n",
        "min=min1 or min2 or min3 or min4\n",
        "min_num=(min1*a)+(min2*b)+(min3*c)+(min4*d)\n",
        "print(min_num)"
      ],
      "metadata": {
        "colab": {
          "base_uri": "https://localhost:8080/"
        },
        "id": "hX3S2nlWa0_-",
        "outputId": "f4e227da-ad49-4442-a652-db9fa4f8e117"
      },
      "execution_count": null,
      "outputs": [
        {
          "output_type": "stream",
          "name": "stdout",
          "text": [
            "10\n"
          ]
        }
      ]
    },
    {
      "cell_type": "code",
      "source": [
        "a=10\n",
        "b=20\n",
        "c=14\n",
        "d=12\n",
        "if a < b:\n",
        "  min_ab = a\n",
        "\n",
        "else:\n",
        "  min_ab = b\n",
        "if c < d:\n",
        "    min_cd = c\n",
        "else:\n",
        "    min_cd = d\n",
        "if min_ab < min_cd:\n",
        "    print(min_ab)\n",
        "  else:\n",
        "    print(min_cd)"
      ],
      "metadata": {
        "colab": {
          "base_uri": "https://localhost:8080/",
          "height": 106
        },
        "id": "qAI4xXCeBBwZ",
        "outputId": "94740c19-b696-4d50-84f0-e7baac689b0e"
      },
      "execution_count": null,
      "outputs": [
        {
          "output_type": "error",
          "ename": "IndentationError",
          "evalue": "unindent does not match any outer indentation level (<tokenize>, line 16)",
          "traceback": [
            "\u001b[0;36m  File \u001b[0;32m\"<tokenize>\"\u001b[0;36m, line \u001b[0;32m16\u001b[0m\n\u001b[0;31m    else:\u001b[0m\n\u001b[0m    ^\u001b[0m\n\u001b[0;31mIndentationError\u001b[0m\u001b[0;31m:\u001b[0m unindent does not match any outer indentation level\n"
          ]
        }
      ]
    },
    {
      "cell_type": "code",
      "source": [
        "a=10\n",
        "b=20\n",
        "c=14\n",
        "d=12\n",
        "if a < b:\n",
        "  min_ab = a\n",
        "\n",
        "else:\n",
        "  min_ab = b\n",
        "if c < d:\n",
        "    min_cd = c\n",
        "else:\n",
        "    min_cd = d\n",
        "if min_ab < min_cd:\n",
        "    print(min_ab)\n",
        "else: # Aligned 'else' with the 'if' statement above\n",
        "    print(min_cd)"
      ],
      "metadata": {
        "colab": {
          "base_uri": "https://localhost:8080/"
        },
        "id": "FHMk2b6vCfoW",
        "outputId": "c1b39fc6-4064-40ff-9740-eb59a77f29af"
      },
      "execution_count": null,
      "outputs": [
        {
          "output_type": "stream",
          "name": "stdout",
          "text": [
            "10\n"
          ]
        }
      ]
    },
    {
      "cell_type": "code",
      "source": [
        "temp = 100\n",
        "b_water = 0\n",
        "while b_water < temp:\n",
        "  b_water = b_water + 15\n",
        "  print(\"Keep checking\")\n",
        "  print(b_water)\n",
        "  print(\"Water is boiling\")"
      ],
      "metadata": {
        "colab": {
          "base_uri": "https://localhost:8080/"
        },
        "id": "aC5YxCfDEfYG",
        "outputId": "6ec3a7f0-672e-45d4-c244-a9068b88fb51"
      },
      "execution_count": null,
      "outputs": [
        {
          "output_type": "stream",
          "name": "stdout",
          "text": [
            "Keep checking\n",
            "15\n",
            "Water is boiling\n",
            "Keep checking\n",
            "30\n",
            "Water is boiling\n",
            "Keep checking\n",
            "45\n",
            "Water is boiling\n",
            "Keep checking\n",
            "60\n",
            "Water is boiling\n",
            "Keep checking\n",
            "75\n",
            "Water is boiling\n",
            "Keep checking\n",
            "90\n",
            "Water is boiling\n",
            "Keep checking\n",
            "105\n",
            "Water is boiling\n"
          ]
        }
      ]
    },
    {
      "cell_type": "code",
      "source": [
        "\n",
        "bin (0b1100 | 0b1010)"
      ],
      "metadata": {
        "colab": {
          "base_uri": "https://localhost:8080/",
          "height": 36
        },
        "id": "CcqCufZxdvua",
        "outputId": "deb184c4-d8fc-4b21-c733-b3a8aa55700a"
      },
      "execution_count": null,
      "outputs": [
        {
          "output_type": "execute_result",
          "data": {
            "text/plain": [
              "'0b1110'"
            ],
            "application/vnd.google.colaboratory.intrinsic+json": {
              "type": "string"
            }
          },
          "metadata": {},
          "execution_count": 12
        }
      ]
    },
    {
      "cell_type": "code",
      "source": [
        "a=-10\n",
        "b=20\n",
        "print(a&((a|b)>>31))"
      ],
      "metadata": {
        "colab": {
          "base_uri": "https://localhost:8080/"
        },
        "id": "TCeAlYnKlubD",
        "outputId": "5c78ec8c-f0e5-4413-9808-8fafbc4d7d54"
      },
      "execution_count": null,
      "outputs": [
        {
          "output_type": "stream",
          "name": "stdout",
          "text": [
            "-10\n"
          ]
        }
      ]
    },
    {
      "cell_type": "code",
      "source": [
        "# prompt: python code to find sum of first 10 natural numbers\n",
        "\n",
        "\n"
      ],
      "metadata": {
        "id": "x-YQbgs6r47J"
      },
      "execution_count": null,
      "outputs": []
    },
    {
      "cell_type": "markdown",
      "source": [],
      "metadata": {
        "id": "DK2mwzFer5dz"
      }
    },
    {
      "cell_type": "code",
      "source": [
        "import sys\n",
        "print(sys.version)"
      ],
      "metadata": {
        "colab": {
          "base_uri": "https://localhost:8080/"
        },
        "id": "VwXNOjrlw574",
        "outputId": "ebb10fbb-0a33-402b-d58c-945e27584520"
      },
      "execution_count": null,
      "outputs": [
        {
          "output_type": "stream",
          "name": "stdout",
          "text": [
            "3.11.11 (main, Dec  4 2024, 08:55:07) [GCC 11.4.0]\n"
          ]
        }
      ]
    },
    {
      "cell_type": "code",
      "source": [
        "print(\"addition : %d ,multiplication : %d\" %(5,3))"
      ],
      "metadata": {
        "colab": {
          "base_uri": "https://localhost:8080/"
        },
        "id": "SLYIQ78049LM",
        "outputId": "9d0168b3-054f-4b97-c080-bba801ee49d7"
      },
      "execution_count": null,
      "outputs": [
        {
          "output_type": "stream",
          "name": "stdout",
          "text": [
            "addition : 5 ,multiplication : 3\n"
          ]
        }
      ]
    },
    {
      "cell_type": "code",
      "source": [
        "print(\"addition : %d ,multiplication : %d\" %(5"
      ],
      "metadata": {
        "colab": {
          "base_uri": "https://localhost:8080/",
          "height": 193
        },
        "id": "cyUeOlDO59z9",
        "outputId": "8cc7bb43-ea2c-4afd-98ff-2d3b13d410d6"
      },
      "execution_count": null,
      "outputs": [
        {
          "name": "stdout",
          "output_type": "stream",
          "text": [
            "Enter a string with punctuations : 'HI!!How are you doing?? Data science!\"\n"
          ]
        },
        {
          "output_type": "error",
          "ename": "NameError",
          "evalue": "name 'remove_punctuation' is not defined",
          "traceback": [
            "\u001b[0;31m---------------------------------------------------------------------------\u001b[0m",
            "\u001b[0;31mNameError\u001b[0m                                 Traceback (most recent call last)",
            "\u001b[0;32m<ipython-input-9-612798adfc8a>\u001b[0m in \u001b[0;36m<cell line: 0>\u001b[0;34m()\u001b[0m\n\u001b[1;32m      1\u001b[0m \u001b[0muser_input\u001b[0m\u001b[0;34m=\u001b[0m\u001b[0minput\u001b[0m\u001b[0;34m(\u001b[0m\u001b[0;34m\"Enter a string with punctuations : \"\u001b[0m\u001b[0;34m)\u001b[0m\u001b[0;34m\u001b[0m\u001b[0;34m\u001b[0m\u001b[0m\n\u001b[0;32m----> 2\u001b[0;31m \u001b[0mcleaned_string\u001b[0m\u001b[0;34m=\u001b[0m\u001b[0mremove_punctuation\u001b[0m\u001b[0;34m(\u001b[0m\u001b[0muser_input\u001b[0m\u001b[0;34m)\u001b[0m\u001b[0;34m\u001b[0m\u001b[0;34m\u001b[0m\u001b[0m\n\u001b[0m\u001b[1;32m      3\u001b[0m \u001b[0mprint\u001b[0m\u001b[0;34m(\u001b[0m\u001b[0mcleaned_string\u001b[0m\u001b[0;34m)\u001b[0m\u001b[0;34m\u001b[0m\u001b[0;34m\u001b[0m\u001b[0m\n",
            "\u001b[0;31mNameError\u001b[0m: name 'remove_punctuation' is not defined"
          ]
        }
      ]
    }
  ]
}